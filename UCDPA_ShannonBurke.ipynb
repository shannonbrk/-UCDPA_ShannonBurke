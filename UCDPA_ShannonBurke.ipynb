{
 "cells": [
  {
   "cell_type": "markdown",
   "id": "cccebaba-38da-4e40-be2e-91d792cb6e5b",
   "metadata": {},
   "source": [
    "Analysis of Streaming Providers (Netflix,Hulu,Prime Video and Disney+)\n",
    "#UCDPA_ShannonBurke"
   ]
  },
  {
   "cell_type": "code",
   "execution_count": 1,
   "id": "7e13214d-2b30-4f16-a872-b0fd869d6086",
   "metadata": {},
   "outputs": [],
   "source": [
    "#Importing packages to be used throughout analysis\n",
    "import pandas as pd\n",
    "import numpy as np\n",
    "import matplotlib.pyplot as plt # For Data Visualisation\n",
    "import seaborn as sns # Data Visualisation built on Matplotlib"
   ]
  },
  {
   "cell_type": "markdown",
   "id": "e66f6642-1410-4a79-aee6-840fb49ed458",
   "metadata": {},
   "source": [
    "Subscriptions for Streaming Providers"
   ]
  },
  {
   "cell_type": "code",
   "execution_count": 3,
   "id": "7d6bd3e8-9a32-4d59-a1f3-15f49c7ecfb5",
   "metadata": {
    "collapsed": true,
    "jupyter": {
     "outputs_hidden": true
    },
    "tags": []
   },
   "outputs": [
    {
     "name": "stdout",
     "output_type": "stream",
     "text": [
      "                     Subscriptions (Million)\n",
      "Streaming Providers                         \n",
      "Netflix                                214.0\n",
      "Hulu                                    39.7\n",
      "Prime Video                            175.0\n",
      "Disney+                                118.1\n"
     ]
    }
   ],
   "source": [
    "#Create Panda Dataframe from dictionary-information for dictionary obtained from:https://www.cnbc.com/2021/11/10/disney-netflix-and-other-streaming-services-subs-arpu-q3-2021.html\n",
    "subscriptions = pd.DataFrame({\"Streaming Providers\":[\"Netflix\",\"Hulu\",\"Prime Video\",\"Disney+\"],\n",
    "                              \"Subscriptions (Million)\":[214,39.7,175,118.1]})\n",
    "subscriptions = pd.DataFrame(subscriptions).set_index('Streaming Providers')\n",
    "print(subscriptions)"
   ]
  },
  {
   "cell_type": "code",
   "execution_count": 5,
   "id": "c8665c37-137b-438c-b495-ef3e410f571c",
   "metadata": {},
   "outputs": [
    {
     "data": {
      "image/png": "[encoded data removed]",
      "text/plain": [
       "<Figure size 360x360 with 1 Axes>"
      ]
     },
     "metadata": {},
     "output_type": "display_data"
    }
   ],
   "source": [
    "#Plotting barplot to display subscriptions of streaming providers\n",
    "streaming_color= [\"red\",\"green\",\"blue\",\"turquoise\"]\n",
    "sns.set_style(\"whitegrid\")\n",
    "sns.catplot(data=subscriptions,x=subscriptions.index,y=\"Subscriptions (Million)\",kind=\"bar\")\n",
    "sns.set_palette(sns.color_palette(streaming_color))\n",
    "plt.title(\"Subscriptions of Streaming Providers\")\n",
    "plt.show()\n",
    "#snipped graph rather than fig.savefig(\"Subscritions of Streaming Providers.png\") and will for futher graphs due to size of graphs"
   ]
  },
  {
   "cell_type": "markdown",
   "id": "f46e905c-3d8b-4827-8976-3ad36fc87b69",
   "metadata": {},
   "source": [
    "Analysis of Streaming Provider content "
   ]
  },
  {
   "cell_type": "code",
   "execution_count": 9,
   "id": "daadcbc2-4c62-4b73-a6d3-d95ada850fa0",
   "metadata": {
    "collapsed": true,
    "jupyter": {
     "outputs_hidden": true
    },
    "tags": []
   },
   "outputs": [
    {
     "name": "stdout",
     "output_type": "stream",
     "text": [
      "    Unnamed: 0                                     Title  Year  Age    IMDb  \\\n",
      "ID                                                                            \n",
      "1            0                              The Irishman  2019  18+  7.8/10   \n",
      "2            1                                    Dangal  2016   7+  8.4/10   \n",
      "3            2  David Attenborough: A Life on Our Planet  2020   7+  9.0/10   \n",
      "4            3         Lagaan: Once Upon a Time in India  2001   7+  8.1/10   \n",
      "5            4                                      Roma  2018  18+  7.7/10   \n",
      "\n",
      "   Rotten Tomatoes  Netflix  Hulu  Prime Video  Disney+  Type  \\\n",
      "ID                                                              \n",
      "1           98/100        1     0            0        0     0   \n",
      "2           97/100        1     0            0        0     0   \n",
      "3           95/100        1     0            0        0     0   \n",
      "4           94/100        1     0            0        0     0   \n",
      "5           94/100        1     0            0        0     0   \n",
      "\n",
      "                                            Directors  \\\n",
      "ID                                                      \n",
      "1                                     Martin Scorsese   \n",
      "2                                       Nitesh Tiwari   \n",
      "3   Alastair Fothergill,Jonathan Hughes,Keith Scholey   \n",
      "4                                  Ashutosh Gowariker   \n",
      "5                                                 NaN   \n",
      "\n",
      "                              Genres  \\\n",
      "ID                                     \n",
      "1              Biography,Crime,Drama   \n",
      "2       Action,Biography,Drama,Sport   \n",
      "3              Documentary,Biography   \n",
      "4                Drama,Musical,Sport   \n",
      "5   Action,Drama,History,Romance,War   \n",
      "\n",
      "                                              Country  \\\n",
      "ID                                                      \n",
      "1                                       United States   \n",
      "2   India,United States,United Kingdom,Australia,K...   \n",
      "3                                      United Kingdom   \n",
      "4                                India,United Kingdom   \n",
      "5                        United Kingdom,United States   \n",
      "\n",
      "                                Language  Runtime  \n",
      "ID                                                 \n",
      "1   English,Italian,Latin,Spanish,German    209.0  \n",
      "2                          Hindi,English    161.0  \n",
      "3                                English     83.0  \n",
      "4                          Hindi,English    224.0  \n",
      "5                                English     52.0  \n"
     ]
    }
   ],
   "source": [
    "#Importing CSV file obtained from Kaggle into Pandas DataFrame and using column ID as index label\n",
    "movies =pd.read_csv(\"MoviesOnStreamingPlatforms_updated.csv\",index_col=\"ID\")\n",
    "print(movies.head())#to see layout of dataset"
   ]
  },
  {
   "cell_type": "code",
   "execution_count": 10,
   "id": "14e6499b-3fd3-4db9-8ef8-b969f2aa4012",
   "metadata": {},
   "outputs": [],
   "source": [
    "#Cleaning and preparing data for analysis"
   ]
  },
  {
   "cell_type": "code",
   "execution_count": 11,
   "id": "8b355ced-9136-4e0e-86e5-fba7e093707f",
   "metadata": {
    "collapsed": true,
    "jupyter": {
     "outputs_hidden": true
    },
    "tags": []
   },
   "outputs": [
    {
     "name": "stdout",
     "output_type": "stream",
     "text": [
      "<class 'pandas.core.frame.DataFrame'>\n",
      "Int64Index: 9515 entries, 1 to 9515\n",
      "Data columns (total 16 columns):\n",
      " #   Column           Non-Null Count  Dtype  \n",
      "---  ------           --------------  -----  \n",
      " 0   Unnamed: 0       9515 non-null   int64  \n",
      " 1   Title            9515 non-null   object \n",
      " 2   Year             9515 non-null   int64  \n",
      " 3   Age              5338 non-null   object \n",
      " 4   IMDb             9309 non-null   object \n",
      " 5   Rotten Tomatoes  9508 non-null   object \n",
      " 6   Netflix          9515 non-null   int64  \n",
      " 7   Hulu             9515 non-null   int64  \n",
      " 8   Prime Video      9515 non-null   int64  \n",
      " 9   Disney+          9515 non-null   int64  \n",
      " 10  Type             9515 non-null   int64  \n",
      " 11  Directors        9104 non-null   object \n",
      " 12  Genres           9399 non-null   object \n",
      " 13  Country          9261 non-null   object \n",
      " 14  Language         9202 non-null   object \n",
      " 15  Runtime          9196 non-null   float64\n",
      "dtypes: float64(1), int64(7), object(8)\n",
      "memory usage: 1.2+ MB\n"
     ]
    }
   ],
   "source": [
    "movies.info()#To show what are the column names,data types of each column and null count of each column"
   ]
  },
  {
   "cell_type": "code",
   "execution_count": 12,
   "id": "c712616e-55c1-4cc9-adce-2ce355b32691",
   "metadata": {
    "collapsed": true,
    "jupyter": {
     "outputs_hidden": true
    },
    "tags": []
   },
   "outputs": [
    {
     "name": "stdout",
     "output_type": "stream",
     "text": [
      "                                       Title  Year  Age    IMDb  \\\n",
      "ID                                                                \n",
      "1                               The Irishman  2019  18+  7.8/10   \n",
      "2                                     Dangal  2016   7+  8.4/10   \n",
      "3   David Attenborough: A Life on Our Planet  2020   7+  9.0/10   \n",
      "4          Lagaan: Once Upon a Time in India  2001   7+  8.1/10   \n",
      "5                                       Roma  2018  18+  7.7/10   \n",
      "\n",
      "   Rotten Tomatoes  Netflix  Hulu  Prime Video  Disney+  Type  \\\n",
      "ID                                                              \n",
      "1           98/100        1     0            0        0     0   \n",
      "2           97/100        1     0            0        0     0   \n",
      "3           95/100        1     0            0        0     0   \n",
      "4           94/100        1     0            0        0     0   \n",
      "5           94/100        1     0            0        0     0   \n",
      "\n",
      "                                            Directors  \\\n",
      "ID                                                      \n",
      "1                                     Martin Scorsese   \n",
      "2                                       Nitesh Tiwari   \n",
      "3   Alastair Fothergill,Jonathan Hughes,Keith Scholey   \n",
      "4                                  Ashutosh Gowariker   \n",
      "5                                                 NaN   \n",
      "\n",
      "                              Genres  \\\n",
      "ID                                     \n",
      "1              Biography,Crime,Drama   \n",
      "2       Action,Biography,Drama,Sport   \n",
      "3              Documentary,Biography   \n",
      "4                Drama,Musical,Sport   \n",
      "5   Action,Drama,History,Romance,War   \n",
      "\n",
      "                                              Country  \\\n",
      "ID                                                      \n",
      "1                                       United States   \n",
      "2   India,United States,United Kingdom,Australia,K...   \n",
      "3                                      United Kingdom   \n",
      "4                                India,United Kingdom   \n",
      "5                        United Kingdom,United States   \n",
      "\n",
      "                                Language  Runtime  \n",
      "ID                                                 \n",
      "1   English,Italian,Latin,Spanish,German    209.0  \n",
      "2                          Hindi,English    161.0  \n",
      "3                                English     83.0  \n",
      "4                          Hindi,English    224.0  \n",
      "5                                English     52.0  \n"
     ]
    }
   ],
   "source": [
    "#Removing Unnamed column as using ID index and no benefit to have column in dataset\n",
    "movies=movies.drop(['Unnamed: 0'],axis=1)\n",
    "print(movies.head())"
   ]
  },
  {
   "cell_type": "code",
   "execution_count": 14,
   "id": "f95b4372-6cc7-4842-95a0-f7b8f5e0588f",
   "metadata": {
    "collapsed": true,
    "jupyter": {
     "outputs_hidden": true
    },
    "tags": []
   },
   "outputs": [
    {
     "name": "stdout",
     "output_type": "stream",
     "text": [
      "Age                4177\n",
      "Directors           411\n",
      "Runtime             319\n",
      "Language            313\n",
      "Country             254\n",
      "IMDb                206\n",
      "Genres              116\n",
      "Rotten Tomatoes       7\n",
      "Title                 0\n",
      "Year                  0\n",
      "Netflix               0\n",
      "Hulu                  0\n",
      "Prime Video           0\n",
      "Disney+               0\n",
      "Type                  0\n",
      "dtype: int64\n"
     ]
    }
   ],
   "source": [
    "# To check for missing data \n",
    "missing_data = movies.isna().sum().sort_values(ascending=False)\n",
    "print(missing_data)"
   ]
  },
  {
   "cell_type": "code",
   "execution_count": 15,
   "id": "94ec5a18-738f-455e-970e-9a5648ef63f6",
   "metadata": {},
   "outputs": [],
   "source": [
    "#To add values to pre-existing column that has no beneficial data, in preperation for combing datasets\n",
    "movies=movies.assign(Type='Movie')"
   ]
  },
  {
   "cell_type": "code",
   "execution_count": 17,
   "id": "3d63cfff-6e8b-4ae7-939c-3daa7f47a89f",
   "metadata": {},
   "outputs": [
    {
     "name": "stdout",
     "output_type": "stream",
     "text": [
      "False\n"
     ]
    }
   ],
   "source": [
    "#To check for duplicates in Movies dataframe\n",
    "duplicate_movies = movies['Title'].duplicated().any()\n",
    "print(duplicate_movies)"
   ]
  },
  {
   "cell_type": "code",
   "execution_count": 18,
   "id": "2e41e0b3-96c3-4d2a-bdeb-af18dff1f1c6",
   "metadata": {
    "collapsed": true,
    "jupyter": {
     "outputs_hidden": true
    },
    "tags": []
   },
   "outputs": [
    {
     "name": "stdout",
     "output_type": "stream",
     "text": [
      "      Unnamed: 0                                  Title  Year  Age    IMDb  \\\n",
      "ID                                                                           \n",
      "1              0                           Breaking Bad  2008  18+  9.4/10   \n",
      "2              1                        Stranger Things  2016  16+  8.7/10   \n",
      "3              2                        Attack on Titan  2013  18+  9.0/10   \n",
      "4              3                       Better Call Saul  2015  18+  8.8/10   \n",
      "5              4                                   Dark  2017  16+  8.8/10   \n",
      "...          ...                                    ...   ...  ...     ...   \n",
      "5713        5363                       Paradise Islands  2017  NaN     NaN   \n",
      "5714        5364                         Mexico Untamed  2018  NaN     NaN   \n",
      "5715        5365                  Wild Centeral America  2020  NaN     NaN   \n",
      "5716        5366                            Wild Russia  2018  NaN     NaN   \n",
      "5717        5367  Fearless Adventures with Jack Randall  2018  NaN     NaN   \n",
      "\n",
      "     Rotten Tomatoes  Netflix  Hulu  Prime Video  Disney+  Type  \n",
      "ID                                                               \n",
      "1            100/100        1     0            0        0     1  \n",
      "2             96/100        1     0            0        0     1  \n",
      "3             95/100        1     1            0        0     1  \n",
      "4             94/100        1     0            0        0     1  \n",
      "5             93/100        1     0            0        0     1  \n",
      "...              ...      ...   ...          ...      ...   ...  \n",
      "5713          10/100        0     0            0        1     1  \n",
      "5714          10/100        0     0            0        1     1  \n",
      "5715          10/100        0     0            0        1     1  \n",
      "5716          10/100        0     0            0        1     1  \n",
      "5717          10/100        0     0            0        1     1  \n",
      "\n",
      "[5368 rows x 11 columns]\n"
     ]
    }
   ],
   "source": [
    "#Importing secound dataset (Series) obtained from kaggle into a Pandas DataFrame and using ID column as index label\n",
    "series = pd.read_csv(\"tv_shows.csv\",index_col=\"ID\")\n",
    "print(series)"
   ]
  },
  {
   "cell_type": "code",
   "execution_count": 19,
   "id": "1161268e-447e-48c4-86f4-85e996eb1a42",
   "metadata": {
    "collapsed": true,
    "jupyter": {
     "outputs_hidden": true
    },
    "tags": []
   },
   "outputs": [
    {
     "name": "stdout",
     "output_type": "stream",
     "text": [
      "<class 'pandas.core.frame.DataFrame'>\n",
      "Int64Index: 5368 entries, 1 to 5717\n",
      "Data columns (total 11 columns):\n",
      " #   Column           Non-Null Count  Dtype \n",
      "---  ------           --------------  ----- \n",
      " 0   Unnamed: 0       5368 non-null   int64 \n",
      " 1   Title            5368 non-null   object\n",
      " 2   Year             5368 non-null   int64 \n",
      " 3   Age              3241 non-null   object\n",
      " 4   IMDb             4406 non-null   object\n",
      " 5   Rotten Tomatoes  5368 non-null   object\n",
      " 6   Netflix          5368 non-null   int64 \n",
      " 7   Hulu             5368 non-null   int64 \n",
      " 8   Prime Video      5368 non-null   int64 \n",
      " 9   Disney+          5368 non-null   int64 \n",
      " 10  Type             5368 non-null   int64 \n",
      "dtypes: int64(7), object(4)\n",
      "memory usage: 503.2+ KB\n"
     ]
    }
   ],
   "source": [
    "#To check column names and data types \n",
    "series.info()"
   ]
  },
  {
   "cell_type": "code",
   "execution_count": 20,
   "id": "49ba252c-5953-40d8-b70b-0c49dbf419e9",
   "metadata": {},
   "outputs": [
    {
     "name": "stdout",
     "output_type": "stream",
     "text": [
      "Age                2127\n",
      "IMDb                962\n",
      "Unnamed: 0            0\n",
      "Title                 0\n",
      "Year                  0\n",
      "Rotten Tomatoes       0\n",
      "Netflix               0\n",
      "Hulu                  0\n",
      "Prime Video           0\n",
      "Disney+               0\n",
      "Type                  0\n",
      "dtype: int64\n"
     ]
    }
   ],
   "source": [
    "#Checking for any missing data \n",
    "missing_dataseries = series.isna().sum().sort_values(ascending=False)\n",
    "print(missing_dataseries)"
   ]
  },
  {
   "cell_type": "code",
   "execution_count": 21,
   "id": "64fdba3a-4b2f-4096-a083-68785d9aa4f2",
   "metadata": {},
   "outputs": [
    {
     "name": "stdout",
     "output_type": "stream",
     "text": [
      "False\n"
     ]
    }
   ],
   "source": [
    "#Checking for duplicates\n",
    "duplicate_series = series['Title'].duplicated().any()\n",
    "print(duplicate_series)"
   ]
  },
  {
   "cell_type": "code",
   "execution_count": 22,
   "id": "a06aa039-71af-451f-9cb9-a35f718c81e7",
   "metadata": {
    "collapsed": true,
    "jupyter": {
     "outputs_hidden": true
    },
    "tags": []
   },
   "outputs": [
    {
     "name": "stdout",
     "output_type": "stream",
     "text": [
      "               Title  Year  Age    IMDb Rotten Tomatoes  Netflix  Hulu  \\\n",
      "ID                                                                       \n",
      "1       Breaking Bad  2008  18+  9.4/10         100/100        1     0   \n",
      "2    Stranger Things  2016  16+  8.7/10          96/100        1     0   \n",
      "3    Attack on Titan  2013  18+  9.0/10          95/100        1     1   \n",
      "4   Better Call Saul  2015  18+  8.8/10          94/100        1     0   \n",
      "5               Dark  2017  16+  8.8/10          93/100        1     0   \n",
      "\n",
      "    Prime Video  Disney+  Type  \n",
      "ID                              \n",
      "1             0        0     1  \n",
      "2             0        0     1  \n",
      "3             0        0     1  \n",
      "4             0        0     1  \n",
      "5             0        0     1  \n"
     ]
    }
   ],
   "source": [
    "#Removing Unnamed column as using ID index and no benefit to have column in dataset\n",
    "series = series.drop(['Unnamed: 0'],axis=1)\n",
    "print(series.head())"
   ]
  },
  {
   "cell_type": "code",
   "execution_count": 23,
   "id": "e5c84939-f2d1-45dc-b13b-d4624c264efd",
   "metadata": {
    "collapsed": true,
    "jupyter": {
     "outputs_hidden": true
    },
    "tags": []
   },
   "outputs": [
    {
     "name": "stdout",
     "output_type": "stream",
     "text": [
      "               Title  Year  Age    IMDb Rotten Tomatoes  Netflix  Hulu  \\\n",
      "ID                                                                       \n",
      "1       Breaking Bad  2008  18+  9.4/10         100/100        1     0   \n",
      "2    Stranger Things  2016  16+  8.7/10          96/100        1     0   \n",
      "3    Attack on Titan  2013  18+  9.0/10          95/100        1     1   \n",
      "4   Better Call Saul  2015  18+  8.8/10          94/100        1     0   \n",
      "5               Dark  2017  16+  8.8/10          93/100        1     0   \n",
      "\n",
      "    Prime Video  Disney+    Type  \n",
      "ID                                \n",
      "1             0        0  Series  \n",
      "2             0        0  Series  \n",
      "3             0        0  Series  \n",
      "4             0        0  Series  \n",
      "5             0        0  Series  \n"
     ]
    }
   ],
   "source": [
    "#To add value to an already existing column that had nil value , in preperation for combining data \n",
    "series = series.assign(Type='Series')\n",
    "print(series.head())"
   ]
  },
  {
   "cell_type": "code",
   "execution_count": 24,
   "id": "18789a78-e44f-47a0-afc3-0e158dd311df",
   "metadata": {
    "collapsed": true,
    "jupyter": {
     "outputs_hidden": true
    },
    "tags": []
   },
   "outputs": [
    {
     "name": "stdout",
     "output_type": "stream",
     "text": [
      "                                          Title  Year  Age    IMDb  \\\n",
      "0                                  The Irishman  2019  18+  7.8/10   \n",
      "1                                        Dangal  2016   7+  8.4/10   \n",
      "2      David Attenborough: A Life on Our Planet  2020   7+  9.0/10   \n",
      "3             Lagaan: Once Upon a Time in India  2001   7+  8.1/10   \n",
      "4                                          Roma  2018  18+  7.7/10   \n",
      "...                                         ...   ...  ...     ...   \n",
      "14878                          Paradise Islands  2017  NaN     NaN   \n",
      "14879                            Mexico Untamed  2018  NaN     NaN   \n",
      "14880                     Wild Centeral America  2020  NaN     NaN   \n",
      "14881                               Wild Russia  2018  NaN     NaN   \n",
      "14882     Fearless Adventures with Jack Randall  2018  NaN     NaN   \n",
      "\n",
      "      Rotten Tomatoes  Netflix  Hulu  Prime Video  Disney+    Type  \\\n",
      "0              98/100        1     0            0        0   Movie   \n",
      "1              97/100        1     0            0        0   Movie   \n",
      "2              95/100        1     0            0        0   Movie   \n",
      "3              94/100        1     0            0        0   Movie   \n",
      "4              94/100        1     0            0        0   Movie   \n",
      "...               ...      ...   ...          ...      ...     ...   \n",
      "14878          10/100        0     0            0        1  Series   \n",
      "14879          10/100        0     0            0        1  Series   \n",
      "14880          10/100        0     0            0        1  Series   \n",
      "14881          10/100        0     0            0        1  Series   \n",
      "14882          10/100        0     0            0        1  Series   \n",
      "\n",
      "                                               Directors  \\\n",
      "0                                        Martin Scorsese   \n",
      "1                                          Nitesh Tiwari   \n",
      "2      Alastair Fothergill,Jonathan Hughes,Keith Scholey   \n",
      "3                                     Ashutosh Gowariker   \n",
      "4                                                    NaN   \n",
      "...                                                  ...   \n",
      "14878                                                NaN   \n",
      "14879                                                NaN   \n",
      "14880                                                NaN   \n",
      "14881                                                NaN   \n",
      "14882                                                NaN   \n",
      "\n",
      "                                 Genres  \\\n",
      "0                 Biography,Crime,Drama   \n",
      "1          Action,Biography,Drama,Sport   \n",
      "2                 Documentary,Biography   \n",
      "3                   Drama,Musical,Sport   \n",
      "4      Action,Drama,History,Romance,War   \n",
      "...                                 ...   \n",
      "14878                               NaN   \n",
      "14879                               NaN   \n",
      "14880                               NaN   \n",
      "14881                               NaN   \n",
      "14882                               NaN   \n",
      "\n",
      "                                                 Country  \\\n",
      "0                                          United States   \n",
      "1      India,United States,United Kingdom,Australia,K...   \n",
      "2                                         United Kingdom   \n",
      "3                                   India,United Kingdom   \n",
      "4                           United Kingdom,United States   \n",
      "...                                                  ...   \n",
      "14878                                                NaN   \n",
      "14879                                                NaN   \n",
      "14880                                                NaN   \n",
      "14881                                                NaN   \n",
      "14882                                                NaN   \n",
      "\n",
      "                                   Language  Runtime  \n",
      "0      English,Italian,Latin,Spanish,German    209.0  \n",
      "1                             Hindi,English    161.0  \n",
      "2                                   English     83.0  \n",
      "3                             Hindi,English    224.0  \n",
      "4                                   English     52.0  \n",
      "...                                     ...      ...  \n",
      "14878                                   NaN      NaN  \n",
      "14879                                   NaN      NaN  \n",
      "14880                                   NaN      NaN  \n",
      "14881                                   NaN      NaN  \n",
      "14882                                   NaN      NaN  \n",
      "\n",
      "[14883 rows x 15 columns]\n"
     ]
    }
   ],
   "source": [
    "#Joining the two datasets \n",
    "streaming = pd.concat([movies,series],ignore_index=True)\n",
    "print(streaming)"
   ]
  },
  {
   "cell_type": "markdown",
   "id": "6daa75be-49d6-4f56-9345-1ff433199726",
   "metadata": {},
   "source": [
    "Distribution of content on each streaming platform "
   ]
  },
  {
   "cell_type": "code",
   "execution_count": 26,
   "id": "9316e495-7aaf-48ae-b8a9-e974f5e83a9f",
   "metadata": {},
   "outputs": [
    {
     "name": "stdout",
     "output_type": "stream",
     "text": [
      "PlatformNetflix Count: 5666\n",
      "PlatformHulu Count: 2668\n",
      "PlatformPrime Video Count: 5944\n",
      "PlatformDisney+ Count: 1273\n"
     ]
    }
   ],
   "source": [
    "#Preperation of plotting pie graph, count each movie/series allocated in each streaming provider\n",
    "platform = ['Netflix','Hulu','Prime Video','Disney+']\n",
    "for i in platform:\n",
    "    print ('Platform{} Count: {}'.format(i,streaming[i].sum()))"
   ]
  },
  {
   "cell_type": "code",
   "execution_count": 27,
   "id": "103babde-ef12-42b1-b96e-a5ef5307658c",
   "metadata": {},
   "outputs": [
    {
     "name": "stdout",
     "output_type": "stream",
     "text": [
      "[5666, 2668, 5944, 1273]\n"
     ]
    }
   ],
   "source": [
    "#Create a list of the counts\n",
    "platform_count = [streaming[i].sum() for i in platform]\n",
    "print(platform_count)"
   ]
  },
  {
   "cell_type": "code",
   "execution_count": 28,
   "id": "c925d6be-702d-45d4-a7a2-335d3e5902eb",
   "metadata": {},
   "outputs": [
    {
     "data": {
      "image/png": "[encoded data removed]",
      "text/plain": [
       "<Figure size 432x288 with 1 Axes>"
      ]
     },
     "metadata": {},
     "output_type": "display_data"
    }
   ],
   "source": [
    "explode = (0.1,0.1,0.1,0.1) # To apply to each streaming content to show count as percentage\n",
    "#plotting\n",
    "fig, ax= plt.subplots()\n",
    "ax.pie(platform_count ,\n",
    "      labels = platform,\n",
    "       autopct = '%1.1f%%',\n",
    "      explode = explode,\n",
    "      shadow = True,\n",
    "      startangle = 100)\n",
    "ax.set_title(\"Streaming Platform Content Distribution\")\n",
    "ax.axis = ('equal')\n",
    "plt.show()"
   ]
  },
  {
   "cell_type": "markdown",
   "id": "6ad496d9-4ed5-486c-8462-90229300d96e",
   "metadata": {},
   "source": [
    "Did COVID 19 have an impact /delayed effect on release of content"
   ]
  },
  {
   "cell_type": "code",
   "execution_count": 29,
   "id": "76201e40-c35e-4437-b039-026ed6335080",
   "metadata": {},
   "outputs": [
    {
     "data": {
      "image/png": "[encoded data removed]",
      "text/plain": [
       "<Figure size 1296x360 with 1 Axes>"
      ]
     },
     "metadata": {},
     "output_type": "display_data"
    }
   ],
   "source": [
    "#Subset data for last 20 years \n",
    "post_2000 = streaming[streaming.Year >=2000]\n",
    "content_year = post_2000.groupby('Year')[['Netflix','Hulu','Prime Video','Disney+']].sum()\n",
    "#plotting \n",
    "plt.figure(figsize=(18, 5))\n",
    "sns.lineplot(x=content_year.index,y=content_year['Netflix'],label='Netflix')\n",
    "sns.lineplot(x=content_year.index,y=content_year['Hulu'],label='Hulu')\n",
    "sns.lineplot(x=content_year.index,y=content_year['Prime Video'],label='Prime Video')\n",
    "sns.lineplot(x=content_year.index,y=content_year['Disney+'],label='Disney+')\n",
    "plt.axvline(x=2020 , label='COVID Impact', linestyle = '--')\n",
    "plt.xlabel('Release Year',fontsize=15)\n",
    "plt.ylabel('No. of content released',fontsize = 15)\n",
    "plt.title('Content release for the last 20+ years',fontsize=20)\n",
    "plt.legend()\n",
    "plt.show()"
   ]
  },
  {
   "cell_type": "markdown",
   "id": "9625217c-08e2-4b93-9e5d-07c00e9df9f0",
   "metadata": {},
   "source": [
    "Checking for overlap of content across the streaming providers"
   ]
  },
  {
   "cell_type": "code",
   "execution_count": 30,
   "id": "fb2d9fef-afec-4f2d-aa4e-bf9303d97177",
   "metadata": {},
   "outputs": [
    {
     "name": "stdout",
     "output_type": "stream",
     "text": [
      "Title      167\n",
      "Netflix    167\n",
      "Hulu       167\n",
      "dtype: int64\n"
     ]
    }
   ],
   "source": [
    "#Netflix and Hulu comparison\n",
    "overlap_NxHu = streaming[[\"Title\",\"Netflix\",\"Hulu\"]]\n",
    "overlap_NxHu = overlap_NxHu[overlap_NxHu['Netflix']==1]\n",
    "overlap_NxHu = overlap_NxHu[overlap_NxHu['Hulu']==1]\n",
    "print(overlap_NxHu.count())"
   ]
  },
  {
   "cell_type": "code",
   "execution_count": 32,
   "id": "3a99f7e1-f2f2-4ce2-835d-4958b087081f",
   "metadata": {},
   "outputs": [
    {
     "name": "stdout",
     "output_type": "stream",
     "text": [
      "Title          215\n",
      "Netflix        215\n",
      "Prime Video    215\n",
      "dtype: int64\n"
     ]
    }
   ],
   "source": [
    "#Netflix and Prime Video \n",
    "overlap_NxPv = streaming[[\"Title\",\"Netflix\",\"Prime Video\"]]\n",
    "overlap_NxPv = overlap_NxPv[overlap_NxPv['Netflix']==1]\n",
    "overlap_NxPv = overlap_NxPv[overlap_NxPv['Prime Video']==1]\n",
    "print(overlap_NxPv.count())"
   ]
  },
  {
   "cell_type": "code",
   "execution_count": 33,
   "id": "8dfa63fc-9c96-423b-bb01-f00b279702dc",
   "metadata": {},
   "outputs": [
    {
     "name": "stdout",
     "output_type": "stream",
     "text": [
      "Title      17\n",
      "Netflix    17\n",
      "Disney+    17\n",
      "dtype: int64\n"
     ]
    }
   ],
   "source": [
    "#Netflix and Disney \n",
    "overlap_NxD = streaming[[\"Title\",\"Netflix\",\"Disney+\"]]\n",
    "overlap_NxD = overlap_NxD[overlap_NxD['Netflix']==1]\n",
    "overlap_NxD = overlap_NxD[overlap_NxD['Disney+']==1]\n",
    "print(overlap_NxD.count())"
   ]
  },
  {
   "cell_type": "code",
   "execution_count": 34,
   "id": "ccadb9a5-e867-4da2-a761-886f46320f50",
   "metadata": {},
   "outputs": [
    {
     "name": "stdout",
     "output_type": "stream",
     "text": [
      "Title          259\n",
      "Hulu           259\n",
      "Prime Video    259\n",
      "dtype: int64\n"
     ]
    }
   ],
   "source": [
    "#Hulu and Prime Video\n",
    "overlap_HuPv = streaming[[\"Title\",\"Hulu\",\"Prime Video\"]]\n",
    "overlap_HuPv = overlap_HuPv[overlap_HuPv[\"Hulu\"]==1]\n",
    "overlap_HuPv = overlap_HuPv[overlap_HuPv[\"Prime Video\"]==1]\n",
    "print(overlap_HuPv.count())"
   ]
  },
  {
   "cell_type": "code",
   "execution_count": 35,
   "id": "19e35099-c542-4d71-9bd0-b8d9ede3cc4d",
   "metadata": {},
   "outputs": [
    {
     "name": "stdout",
     "output_type": "stream",
     "text": [
      "Title      41\n",
      "Hulu       41\n",
      "Disney+    41\n",
      "dtype: int64\n"
     ]
    }
   ],
   "source": [
    "#Hulu and Disney+\n",
    "overlap_HuD = streaming[[\"Title\",\"Hulu\",\"Disney+\"]]\n",
    "overlap_HuD = overlap_HuD[overlap_HuD[\"Hulu\"]==1]\n",
    "overlap_HuD = overlap_HuD[overlap_HuD[\"Disney+\"]==1]\n",
    "print(overlap_HuD.count())"
   ]
  },
  {
   "cell_type": "code",
   "execution_count": 36,
   "id": "f131dbe3-833c-4658-9e84-511ce3c5959f",
   "metadata": {},
   "outputs": [
    {
     "name": "stdout",
     "output_type": "stream",
     "text": [
      "Title          16\n",
      "Prime Video    16\n",
      "Disney+        16\n",
      "dtype: int64\n"
     ]
    }
   ],
   "source": [
    "#Prime Video and Disney+\n",
    "overlap_PvD = streaming[[\"Title\",\"Prime Video\",\"Disney+\"]]\n",
    "overlap_PvD = overlap_PvD[overlap_PvD[\"Prime Video\"]==1]\n",
    "overlap_PvD = overlap_PvD[overlap_PvD[\"Disney+\"]==1]\n",
    "print(overlap_PvD.count())"
   ]
  },
  {
   "cell_type": "code",
   "execution_count": 38,
   "id": "fed2972a-f67b-43ba-9c4c-e8debbc4356e",
   "metadata": {},
   "outputs": [
    {
     "name": "stdout",
     "output_type": "stream",
     "text": [
      "Title          40\n",
      "Netflix        40\n",
      "Hulu           40\n",
      "Prime Video    40\n",
      "dtype: int64\n"
     ]
    }
   ],
   "source": [
    "#Netflix,Hulu and Prime Video\n",
    "overlap_NxHuPv = streaming[[\"Title\",\"Netflix\",\"Hulu\",\"Prime Video\"]]\n",
    "overlap_NxHuPv = overlap_NxHuPv[overlap_NxHuPv[\"Netflix\"]==1]\n",
    "overlap_NxHuPv = overlap_NxHuPv[overlap_NxHuPv[\"Hulu\"]==1]\n",
    "overlap_NxHuPv = overlap_NxHuPv[overlap_NxHuPv[\"Prime Video\"]==1]\n",
    "print(overlap_NxHuPv.count())"
   ]
  },
  {
   "cell_type": "code",
   "execution_count": 39,
   "id": "864187b6-66a3-4d8e-8d87-1d2112c39ac2",
   "metadata": {},
   "outputs": [
    {
     "name": "stdout",
     "output_type": "stream",
     "text": [
      "        Title  Netflix  Hulu  Prime Video  Disney+\n",
      "1330   Zapped        1     1            1        1\n",
      "11630  Genius        1     1            1        1\n"
     ]
    }
   ],
   "source": [
    "#Overlap of all 4 platforms\n",
    "overlap_NxHuPvD = streaming[[\"Title\",\"Netflix\",\"Hulu\",\"Prime Video\",\"Disney+\"]]\n",
    "overlap_NxHuPvD = overlap_NxHuPvD[overlap_NxHuPvD[\"Netflix\"]==1]\n",
    "overlap_NxHuPvD = overlap_NxHuPvD[overlap_NxHuPvD[\"Hulu\"]==1]\n",
    "overlap_NxHuPvD = overlap_NxHuPvD[overlap_NxHuPvD[\"Prime Video\"]==1]\n",
    "overlap_NxHuPvD = overlap_NxHuPvD[overlap_NxHuPvD[\"Disney+\"]==1]\n",
    "print(overlap_NxHuPvD)"
   ]
  },
  {
   "cell_type": "code",
   "execution_count": 40,
   "id": "fc217375-14d4-4b97-8211-f03473892afa",
   "metadata": {},
   "outputs": [
    {
     "name": "stdout",
     "output_type": "stream",
     "text": [
      "        Title  Year  Age    IMDb Rotten Tomatoes  Netflix  Hulu  Prime Video  \\\n",
      "1330   Zapped  2014  all  5.2/10          59/100        1     1            1   \n",
      "11630  Genius  2017  16+  8.3/10          74/100        1     1            1   \n",
      "\n",
      "       Disney+    Type    Directors           Genres Country Language  Runtime  \n",
      "1330         1   Movie  Atlee Kumar  Action,Thriller   India    Tamil    172.0  \n",
      "11630        1  Series          NaN              NaN     NaN      NaN      NaN  \n"
     ]
    }
   ],
   "source": [
    "# Slicing and subsetting with loc to obtain full information on two titles across all streaming services\n",
    "overlap_full_data = streaming.loc[[1330,11630]]\n",
    "print (overlap_full_data)"
   ]
  },
  {
   "cell_type": "markdown",
   "id": "908be9d7-33b5-458d-8be2-2a92211cd1ac",
   "metadata": {},
   "source": [
    "Which platform contains the most content with the highest ratings by IMDb and Rotten Tomatoes"
   ]
  },
  {
   "cell_type": "code",
   "execution_count": 41,
   "id": "c7318c13-6bc5-4b13-885d-3efb731b6ac3",
   "metadata": {
    "collapsed": true,
    "jupyter": {
     "outputs_hidden": true
    },
    "tags": []
   },
   "outputs": [
    {
     "name": "stdout",
     "output_type": "stream",
     "text": [
      "                                                 Title IMDb  Netflix  Hulu  \\\n",
      "6750                  Ruby's Studio: the Feelings Show  9.8        0     0   \n",
      "6775                         Ostatni ludzie Czarnobyla  9.7        0     0   \n",
      "13317                The Secret World of Nature: Spain  9.6        0     0   \n",
      "9396                                       Jingle Pols  9.6        0     0   \n",
      "14592                                            Bluey  9.6        0     0   \n",
      "13126                                     Malgudi Days  9.5        0     0   \n",
      "9515                                      Breaking Bad  9.4        1     0   \n",
      "14792                             Alaska Animal Rescue  9.4        0     0   \n",
      "9595                                        Our Planet  9.3        1     0   \n",
      "13275                                  Everyday Driver  9.3        0     0   \n",
      "9520                        Avatar: The Last Airbender  9.3        1     0   \n",
      "12630                                     Hungry Henry  9.3        0     1   \n",
      "11524                                           Cosmos  9.3        0     1   \n",
      "6165                                    Healing Voices  9.2        0     0   \n",
      "13621                                   Becoming a Man  9.2        0     0   \n",
      "14621                          Cosmos: Possible Worlds  9.2        0     0   \n",
      "13286                          Harmony with A R Rahman  9.2        0     0   \n",
      "11465                                   Rick and Morty  9.2        0     1   \n",
      "13018                                  Clarkson's Farm  9.2        0     0   \n",
      "9965                                     Word of Honor  9.1        1     0   \n",
      "9540                  Fullmetal Alchemist: Brotherhood  9.1        1     1   \n",
      "14722                              Heartland Docs, DVM  9.1        0     0   \n",
      "9716                                  Leyla ile Mecnun  9.1        1     0   \n",
      "9864                                        Reply 1988  9.1        1     0   \n",
      "13583                                Junk Drawer Magic  9.1        0     0   \n",
      "9916                                         My Mister  9.1        1     0   \n",
      "9551                                    The Last Dance  9.1        1     0   \n",
      "13295                                   Free to Choose  9.1        0     0   \n",
      "10516                                           Okupas  9.1        1     0   \n",
      "6823   They Come to America IV: Immigration & Politics  9.0        0     0   \n",
      "9601                                   Hunter x Hunter  9.0        1     1   \n",
      "9517                                   Attack on Titan  9.0        1     1   \n",
      "642                                  C/o Kancharapalem  9.0        1     0   \n",
      "9442                                  Blue Ribbon Kids  9.0        0     0   \n",
      "9581                                        Death Note  9.0        1     1   \n",
      "2             David Attenborough: A Life on Our Planet  9.0        1     0   \n",
      "3695                                   The Dark Knight  9.0        0     1   \n",
      "11770                                  McCartney 3,2,1  9.0        0     1   \n",
      "1059                                    No Longer kids  9.0        1     0   \n",
      "11474                                          Firefly  9.0        0     1   \n",
      "14594                           The Imagineering Story  9.0        0     0   \n",
      "12545                                   Special Forces  9.0        0     1   \n",
      "12754                                    LittleBabyBum  9.0        0     1   \n",
      "9846        Leah Remini: Scientology and the Aftermath  9.0        1     1   \n",
      "14759                     Critter Fixers: Country Vets  9.0        0     0   \n",
      "9908                                       The Untamed  9.0        1     0   \n",
      "13750                          Nature's Power Revealed  9.0        0     0   \n",
      "11496                                The Twilight Zone  9.0        0     1   \n",
      "13079                           How the Universe Works  8.9        0     0   \n",
      "13880             Today's Homeowner with Danny Lipford  8.9        0     0   \n",
      "\n",
      "       Prime Video  Disney+    Type  \n",
      "6750             1        0   Movie  \n",
      "6775             1        0   Movie  \n",
      "13317            1        0  Series  \n",
      "9396             0        1   Movie  \n",
      "14592            0        1  Series  \n",
      "13126            1        0  Series  \n",
      "9515             0        0  Series  \n",
      "14792            0        1  Series  \n",
      "9595             0        0  Series  \n",
      "13275            1        0  Series  \n",
      "9520             1        0  Series  \n",
      "12630            0        0  Series  \n",
      "11524            1        1  Series  \n",
      "6165             1        0   Movie  \n",
      "13621            1        0  Series  \n",
      "14621            0        1  Series  \n",
      "13286            1        0  Series  \n",
      "11465            0        0  Series  \n",
      "13018            1        0  Series  \n",
      "9965             0        0  Series  \n",
      "9540             0        0  Series  \n",
      "14722            0        1  Series  \n",
      "9716             0        0  Series  \n",
      "9864             0        0  Series  \n",
      "13583            1        0  Series  \n",
      "9916             0        0  Series  \n",
      "9551             0        0  Series  \n",
      "13295            1        0  Series  \n",
      "10516            0        0  Series  \n",
      "6823             1        0   Movie  \n",
      "9601             0        0  Series  \n",
      "9517             0        0  Series  \n",
      "642              0        0   Movie  \n",
      "9442             0        1   Movie  \n",
      "9581             0        0  Series  \n",
      "2                0        0   Movie  \n",
      "3695             0        0   Movie  \n",
      "11770            0        0  Series  \n",
      "1059             0        0   Movie  \n",
      "11474            0        0  Series  \n",
      "14594            0        1  Series  \n",
      "12545            1        0  Series  \n",
      "12754            0        0  Series  \n",
      "9846             0        0  Series  \n",
      "14759            0        1  Series  \n",
      "9908             0        0  Series  \n",
      "13750            1        0  Series  \n",
      "11496            0        0  Series  \n",
      "13079            1        0  Series  \n",
      "13880            1        0  Series  \n"
     ]
    },
    {
     "name": "stderr",
     "output_type": "stream",
     "text": [
      "<ipython-input-41-8dadedd28de2>:4: SettingWithCopyWarning: \n",
      "A value is trying to be set on a copy of a slice from a DataFrame.\n",
      "Try using .loc[row_indexer,col_indexer] = value instead\n",
      "\n",
      "See the caveats in the documentation: https://pandas.pydata.org/pandas-docs/stable/user_guide/indexing.html#returning-a-view-versus-a-copy\n",
      "  IMDb_ratings['IMDb']= IMDb_ratings['IMDb'].str.split('/').str[0]\n"
     ]
    }
   ],
   "source": [
    "#IMDb-to find the top 50 rated titles and which platform has rights to \n",
    "IMDb_rating = streaming.copy()\n",
    "IMDb_ratings = IMDb_rating[[\"Title\",\"IMDb\",\"Netflix\",\"Hulu\",\"Prime Video\",\"Disney+\",\"Type\"]]\n",
    "IMDb_ratings['IMDb']= IMDb_ratings['IMDb'].str.split('/').str[0]\n",
    "IMDb_ratings= IMDb_ratings.sort_values(\"IMDb\",ascending=False)\n",
    "top50_IMDb_ratings= IMDb_ratings.head(50)\n",
    "print(top50_IMDb_ratings)"
   ]
  },
  {
   "cell_type": "code",
   "execution_count": 43,
   "id": "04943520-f7c9-4845-a006-aad01b5e6e49",
   "metadata": {},
   "outputs": [
    {
     "name": "stdout",
     "output_type": "stream",
     "text": [
      "PlatformNetflix Count: 18\n",
      "PlatformHulu Count: 14\n",
      "PlatformPrime Video Count: 18\n",
      "PlatformDisney+ Count: 9\n"
     ]
    }
   ],
   "source": [
    "#To obtain count of the top 50 rated by IMDb content across the platforms\n",
    "for i in platform:\n",
    "    print ('Platform{} Count: {}'.format(i,top50_IMDb_ratings[i].sum()))"
   ]
  },
  {
   "cell_type": "code",
   "execution_count": 44,
   "id": "70a99962-bd58-4f46-a848-0c60ec648fc1",
   "metadata": {
    "collapsed": true,
    "jupyter": {
     "outputs_hidden": true
    },
    "tags": []
   },
   "outputs": [
    {
     "name": "stdout",
     "output_type": "stream",
     "text": [
      "                                                   Title Rotten Tomatoes  \\\n",
      "0                                           The Irishman              98   \n",
      "1                                                 Dangal              97   \n",
      "8615                                        Mary Poppins              96   \n",
      "9516                                     Stranger Things              96   \n",
      "14572                                               Loki              95   \n",
      "9517                                     Attack on Titan              95   \n",
      "2               David Attenborough: A Life on Our Planet              95   \n",
      "5                      To All the Boys I've Loved Before              94   \n",
      "14573                                    The Mandalorian              94   \n",
      "9518                                    Better Call Saul              94   \n",
      "3                      Lagaan: Once Upon a Time in India              94   \n",
      "3695                                     The Dark Knight              94   \n",
      "4                                                   Roma              94   \n",
      "4704                                             Tumbbad              93   \n",
      "9522                                    The Walking Dead              93   \n",
      "9521                                      Peaky Blinders              93   \n",
      "9520                          Avatar: The Last Airbender              93   \n",
      "9519                                                Dark              93   \n",
      "12961                                           The Boys              93   \n",
      "4703                                          Fight Club              93   \n",
      "6                                     The Social Dilemma              93   \n",
      "11466                                           Seinfeld              93   \n",
      "12963                                              House              92   \n",
      "12962                                             Dexter              92   \n",
      "9524                                  The Queen's Gambit              92   \n",
      "11467                                            Vikings              92   \n",
      "11468                                              Fargo              92   \n",
      "11469                                 Brooklyn Nine-Nine              92   \n",
      "9523                                        Black Mirror              92   \n",
      "8                           The Ballad of Buster Scruggs              92   \n",
      "7                                                   Okja              92   \n",
      "9                             The Trial of the Chicago 7              92   \n",
      "10                                            Article 15              92   \n",
      "11     Jim & Andy: The Great Beyond- Featuring a Very...              92   \n",
      "12                                   Dolemite Is My Name              92   \n",
      "15                                                  Fyre              91   \n",
      "4705                                           Gully Boy              91   \n",
      "11471                               Parks and Recreation              91   \n",
      "11470                                               Lost              91   \n",
      "13                                              Mudbound              91   \n",
      "14                                                Swades              91   \n",
      "11472                                       The Simpsons              91   \n",
      "12964                                          Mr. Robot              91   \n",
      "8616                                   Avengers: Endgame              90   \n",
      "11477                                      Modern Family              90   \n",
      "4706                                      Chak De! India              90   \n",
      "9526                                           Community              90   \n",
      "9527                                              Narcos              90   \n",
      "9528                                           Shameless              90   \n",
      "9529                                         Money Heist              90   \n",
      "\n",
      "       Netflix  Hulu  Prime Video  Disney+    Type  \n",
      "0            1     0            0        0   Movie  \n",
      "1            1     0            0        0   Movie  \n",
      "8615         0     0            0        1   Movie  \n",
      "9516         1     0            0        0  Series  \n",
      "14572        0     0            0        1  Series  \n",
      "9517         1     1            0        0  Series  \n",
      "2            1     0            0        0   Movie  \n",
      "5            1     0            0        0   Movie  \n",
      "14573        0     0            0        1  Series  \n",
      "9518         1     0            0        0  Series  \n",
      "3            1     0            0        0   Movie  \n",
      "3695         0     1            0        0   Movie  \n",
      "4            1     0            0        0   Movie  \n",
      "4704         0     0            1        0   Movie  \n",
      "9522         1     0            0        0  Series  \n",
      "9521         1     0            0        0  Series  \n",
      "9520         1     0            1        0  Series  \n",
      "9519         1     0            0        0  Series  \n",
      "12961        0     0            1        0  Series  \n",
      "4703         0     0            1        0   Movie  \n",
      "6            1     0            0        0   Movie  \n",
      "11466        0     1            0        0  Series  \n",
      "12963        0     0            1        0  Series  \n",
      "12962        0     0            1        0  Series  \n",
      "9524         1     0            0        0  Series  \n",
      "11467        0     1            1        0  Series  \n",
      "11468        0     1            0        0  Series  \n",
      "11469        0     1            0        0  Series  \n",
      "9523         1     0            0        0  Series  \n",
      "8            1     0            0        0   Movie  \n",
      "7            1     0            0        0   Movie  \n",
      "9            1     0            0        0   Movie  \n",
      "10           1     0            0        0   Movie  \n",
      "11           1     0            0        0   Movie  \n",
      "12           1     0            0        0   Movie  \n",
      "15           1     0            0        0   Movie  \n",
      "4705         0     0            1        0   Movie  \n",
      "11471        0     1            0        0  Series  \n",
      "11470        0     1            0        0  Series  \n",
      "13           1     0            0        0   Movie  \n",
      "14           1     0            0        0   Movie  \n",
      "11472        0     1            0        1  Series  \n",
      "12964        0     0            1        0  Series  \n",
      "8616         0     0            0        1   Movie  \n",
      "11477        0     1            0        0  Series  \n",
      "4706         0     0            1        0   Movie  \n",
      "9526         1     1            1        0  Series  \n",
      "9527         1     0            0        0  Series  \n",
      "9528         1     1            1        0  Series  \n",
      "9529         1     0            0        0  Series  \n"
     ]
    },
    {
     "name": "stderr",
     "output_type": "stream",
     "text": [
      "<ipython-input-44-40793791b68b>:4: SettingWithCopyWarning: \n",
      "A value is trying to be set on a copy of a slice from a DataFrame.\n",
      "Try using .loc[row_indexer,col_indexer] = value instead\n",
      "\n",
      "See the caveats in the documentation: https://pandas.pydata.org/pandas-docs/stable/user_guide/indexing.html#returning-a-view-versus-a-copy\n",
      "  rt_ratings['Rotten Tomatoes']= rt_ratings['Rotten Tomatoes'].str.split('/').str[0]\n"
     ]
    }
   ],
   "source": [
    "#Rotten Tomatoes-to find the top 50 rated titles and which platform has rights to \n",
    "rt_rating = streaming.copy()\n",
    "rt_ratings = rt_rating[[\"Title\",\"Rotten Tomatoes\",\"Netflix\",\"Hulu\",\"Prime Video\",\"Disney+\",\"Type\"]]\n",
    "rt_ratings['Rotten Tomatoes']= rt_ratings['Rotten Tomatoes'].str.split('/').str[0]\n",
    "rt_ratings= rt_ratings.sort_values(\"Rotten Tomatoes\",ascending=False)\n",
    "top50_rt_ratings= rt_ratings.head(50)\n",
    "print(top50_rt_ratings)"
   ]
  },
  {
   "cell_type": "code",
   "execution_count": 45,
   "id": "6f7eaa7c-3d2e-4e1b-b1b7-4fdfdd5fd50f",
   "metadata": {},
   "outputs": [
    {
     "name": "stdout",
     "output_type": "stream",
     "text": [
      "PlatformNetflix Count: 29\n",
      "PlatformHulu Count: 12\n",
      "PlatformPrime Video Count: 12\n",
      "PlatformDisney+ Count: 5\n"
     ]
    }
   ],
   "source": [
    "#To obtain count of top 50 rated by Rotten Tomatoes across the platforms\n",
    "for i in platform:\n",
    "    print ('Platform{} Count: {}'.format(i,top50_rt_ratings[i].sum()))"
   ]
  },
  {
   "cell_type": "code",
   "execution_count": 46,
   "id": "2910f646-9a01-4750-bc6b-36b3f3edf77c",
   "metadata": {},
   "outputs": [
    {
     "name": "stdout",
     "output_type": "stream",
     "text": [
      "             IMDb  Rotten Tomatoes\n",
      "Label                             \n",
      "Netflix        18               29\n",
      "Hulu           14               12\n",
      "Prime Video    18               12\n",
      "Disney+         9                5\n"
     ]
    }
   ],
   "source": [
    "#To create a datframe from dictionary of IMDb and Rotten Tomatoes count of the top top rated\n",
    "top_rated=pd.DataFrame({\"Label\":[\"Netflix\",\"Hulu\",\"Prime Video\",\"Disney+\"],\n",
    "                        \"IMDb\":[18,14,18,9],\n",
    "                       \"Rotten Tomatoes\":[29,12,12,5]})\n",
    "top_rated_df = pd.DataFrame(top_rated).set_index('Label')\n",
    "print(top_rated_df)"
   ]
  },
  {
   "cell_type": "code",
   "execution_count": 76,
   "id": "9a112d18-ea3a-4c9e-88cc-e95c42364112",
   "metadata": {},
   "outputs": [
    {
     "data": {
      "image/png": "[encoded data removed]",
      "text/plain": [
       "<Figure size 432x288 with 1 Axes>"
      ]
     },
     "metadata": {},
     "output_type": "display_data"
    }
   ],
   "source": [
    "#Plotting Multiple bar charts(Grouped Bar chart)using Matplotlib \n",
    "fig, ax = plt.subplots()\n",
    "ax.bar(top_rated_df.index,top_rated_df['IMDb'],label=\"IMDb\",color='b');\n",
    "ax.bar(top_rated_df.index,top_rated_df['Rotten Tomatoes'],label=\"Rotten Tomatoes\",alpha=0.4,color='g');\n",
    "ax.set_title(\"Which Streaming Platform has the highest top rated content (IMDb and Rotten Tomamtoes)\")\n",
    "ax.set_xlabel(\"Streaming Provider\")\n",
    "ax.set_ylabel(\"Count of top rated\")\n",
    "ax.legend();\n",
    "plt.show()"
   ]
  },
  {
   "cell_type": "markdown",
   "id": "a1a832f0-fc76-40f5-a1c2-aaa89c693d81",
   "metadata": {},
   "source": [
    "Analysing Age ratings in content "
   ]
  },
  {
   "cell_type": "code",
   "execution_count": 56,
   "id": "74286f7d-0faf-437c-9511-6d2a02abdb68",
   "metadata": {
    "collapsed": true,
    "jupyter": {
     "outputs_hidden": true
    },
    "tags": []
   },
   "outputs": [
    {
     "name": "stdout",
     "output_type": "stream",
     "text": [
      "                                          Title  Age\n",
      "0                                  The Irishman  18+\n",
      "1                                        Dangal   7+\n",
      "2      David Attenborough: A Life on Our Planet   7+\n",
      "3             Lagaan: Once Upon a Time in India   7+\n",
      "4                                          Roma  18+\n",
      "...                                         ...  ...\n",
      "14878                          Paradise Islands  NaN\n",
      "14879                            Mexico Untamed  NaN\n",
      "14880                     Wild Centeral America  NaN\n",
      "14881                               Wild Russia  NaN\n",
      "14882     Fearless Adventures with Jack Randall  NaN\n",
      "\n",
      "[14883 rows x 2 columns]\n"
     ]
    }
   ],
   "source": [
    "#Creating a subset from streaming dataframe\n",
    "age_df = streaming.copy()\n",
    "age_df = age_df[[\"Title\",\"Age\"]]\n",
    "print(age_df)"
   ]
  },
  {
   "cell_type": "code",
   "execution_count": 57,
   "id": "06ed531f-755a-4182-91f5-e24f0f4fd2db",
   "metadata": {
    "collapsed": true,
    "jupyter": {
     "outputs_hidden": true
    },
    "tags": []
   },
   "outputs": [
    {
     "name": "stdout",
     "output_type": "stream",
     "text": [
      "                                          Title  Age\n",
      "0                                  The Irishman  18+\n",
      "1                                        Dangal   7+\n",
      "2      David Attenborough: A Life on Our Planet   7+\n",
      "3             Lagaan: Once Upon a Time in India   7+\n",
      "4                                          Roma  18+\n",
      "...                                         ...  ...\n",
      "14855       Howie Mandel's Animals Doing Things  all\n",
      "14856                               The Big Fib  all\n",
      "14857              Vampirina: Ghoul Girls Rock!  all\n",
      "14863                             Party Animals  all\n",
      "14872                 Weirdest, Bestest, Truest  all\n",
      "\n",
      "[8579 rows x 2 columns]\n"
     ]
    }
   ],
   "source": [
    "age_df1 = age_df.dropna()\n",
    "print(age_df1)"
   ]
  },
  {
   "cell_type": "code",
   "execution_count": 59,
   "id": "f750a4bc-6cdc-4833-8554-8a8fb49da02c",
   "metadata": {
    "collapsed": true,
    "jupyter": {
     "outputs_hidden": true
    },
    "tags": []
   },
   "outputs": [
    {
     "name": "stderr",
     "output_type": "stream",
     "text": [
      "C:\\Users\\shann\\anaconda3\\lib\\site-packages\\pandas\\core\\indexing.py:1637: SettingWithCopyWarning: \n",
      "A value is trying to be set on a copy of a slice from a DataFrame\n",
      "\n",
      "See the caveats in the documentation: https://pandas.pydata.org/pandas-docs/stable/user_guide/indexing.html#returning-a-view-versus-a-copy\n",
      "  self._setitem_single_block(indexer, value, name)\n",
      "C:\\Users\\shann\\anaconda3\\lib\\site-packages\\pandas\\core\\indexing.py:692: SettingWithCopyWarning: \n",
      "A value is trying to be set on a copy of a slice from a DataFrame\n",
      "\n",
      "See the caveats in the documentation: https://pandas.pydata.org/pandas-docs/stable/user_guide/indexing.html#returning-a-view-versus-a-copy\n",
      "  iloc._setitem_with_indexer(indexer, value, self.name)\n"
     ]
    },
    {
     "name": "stdout",
     "output_type": "stream",
     "text": [
      "                                          Title  Age Age Rating\n",
      "0                                  The Irishman  18+    Over 18\n",
      "1                                        Dangal   7+   Under 18\n",
      "2      David Attenborough: A Life on Our Planet   7+   Under 18\n",
      "3             Lagaan: Once Upon a Time in India   7+   Under 18\n",
      "4                                          Roma  18+    Over 18\n",
      "...                                         ...  ...        ...\n",
      "14855       Howie Mandel's Animals Doing Things  all   Under 18\n",
      "14856                               The Big Fib  all   Under 18\n",
      "14857              Vampirina: Ghoul Girls Rock!  all   Under 18\n",
      "14863                             Party Animals  all   Under 18\n",
      "14872                 Weirdest, Bestest, Truest  all   Under 18\n",
      "\n",
      "[8579 rows x 3 columns]\n"
     ]
    }
   ],
   "source": [
    "#Looping and itterows - i.e adding two categories to the dataset \n",
    "for lab, row in age_df1.iterrows():\n",
    "    if \"18+\" in row [\"Age\"]:\n",
    "        age_df1.loc[lab,\"Age Rating\"]=\"Over 18\"\n",
    "    else:\n",
    "        age_df1.loc[lab,\"Age Rating\"]=\"Under 18\"\n",
    "        \n",
    "print(age_df1)"
   ]
  },
  {
   "cell_type": "code",
   "execution_count": 60,
   "id": "3d52bb1e-ec3e-42c6-a98f-bdd4cfae6616",
   "metadata": {
    "collapsed": true,
    "jupyter": {
     "outputs_hidden": true
    },
    "tags": []
   },
   "outputs": [
    {
     "name": "stdout",
     "output_type": "stream",
     "text": [
      "Title         3130\n",
      "Age           3130\n",
      "Age Rating    3130\n",
      "dtype: int64\n"
     ]
    }
   ],
   "source": [
    "#Count of over 18 \n",
    "over18 = age_df1[age_df1[\"Age Rating\"]=='Over 18']\n",
    "print(over18.count())"
   ]
  },
  {
   "cell_type": "code",
   "execution_count": 61,
   "id": "7404056c-b21c-4add-b2b7-916372f4bcc4",
   "metadata": {
    "collapsed": true,
    "jupyter": {
     "outputs_hidden": true
    },
    "tags": []
   },
   "outputs": [
    {
     "name": "stdout",
     "output_type": "stream",
     "text": [
      "Title         5449\n",
      "Age           5449\n",
      "Age Rating    5449\n",
      "dtype: int64\n"
     ]
    }
   ],
   "source": [
    "#Count of under 18 \n",
    "under18 = age_df1[age_df1[\"Age Rating\"]=='Under 18']\n",
    "print(under18.count())"
   ]
  },
  {
   "cell_type": "code",
   "execution_count": 62,
   "id": "bb174c13-da48-4a19-a594-b50bb1e6f13d",
   "metadata": {},
   "outputs": [],
   "source": [
    "#Creating custom reusable code to get % of data set for two age categories added\n",
    "def custom_1(a):\n",
    "    percentage = (a/age_df1.shape[0])*100\n",
    "    return percentage"
   ]
  },
  {
   "cell_type": "code",
   "execution_count": 63,
   "id": "96010997-7da3-408e-a329-6096b8ef4f55",
   "metadata": {},
   "outputs": [
    {
     "data": {
      "text/plain": [
       "36.48443874577457"
      ]
     },
     "execution_count": 63,
     "metadata": {},
     "output_type": "execute_result"
    }
   ],
   "source": [
    "#Percentage using reuseable code for over 18 category\n",
    "(custom_1(3130))"
   ]
  },
  {
   "cell_type": "code",
   "execution_count": 64,
   "id": "266c1395-cee0-40f1-9d3d-8a95c07cf74c",
   "metadata": {},
   "outputs": [
    {
     "data": {
      "text/plain": [
       "63.51556125422544"
      ]
     },
     "execution_count": 64,
     "metadata": {},
     "output_type": "execute_result"
    }
   ],
   "source": [
    "#Percentage using reuseable code for under 18 category\n",
    "(custom_1(5449))"
   ]
  },
  {
   "cell_type": "markdown",
   "id": "859f1a70-4f01-4fd0-bd54-37990aadf4d0",
   "metadata": {},
   "source": [
    "Historical Stock Price data (2019-2021)\n",
    "\n",
    "Information obtained from Yahoo Finance"
   ]
  },
  {
   "cell_type": "code",
   "execution_count": 48,
   "id": "1604306e-ead0-4650-8679-319a6021eecb",
   "metadata": {},
   "outputs": [],
   "source": [
    "#Importing stock csv's files that contains monthly stock information (2019-2021)\n",
    "nflx_stock = pd.read_csv(\"NFLX.csv\",index_col=\"Date\")\n",
    "amzn_stock = pd.read_csv(\"AMZN.csv\",index_col=\"Date\")\n",
    "dis_stock = pd.read_csv(\"DIS.csv\",index_col=\"Date\")"
   ]
  },
  {
   "cell_type": "code",
   "execution_count": 49,
   "id": "8f344ffd-6039-4f88-bc9b-9d5c85cd6888",
   "metadata": {
    "collapsed": true,
    "jupyter": {
     "outputs_hidden": true
    },
    "tags": []
   },
   "outputs": [
    {
     "name": "stdout",
     "output_type": "stream",
     "text": [
      "                   Open         High          Low        Close    Adj Close  \\\n",
      "Date                                                                          \n",
      "2019-01-01  1465.199951  1736.410034  1460.930054  1718.729980  1718.729980   \n",
      "2019-02-01  1638.880005  1673.060059  1566.760010  1639.829956  1639.829956   \n",
      "2019-03-01  1655.130005  1823.750000  1586.569946  1780.750000  1780.750000   \n",
      "2019-04-01  1800.109985  1956.339966  1798.729980  1926.520020  1926.520020   \n",
      "2019-05-01  1933.089966  1964.400024  1772.699951  1775.069946  1775.069946   \n",
      "2019-06-01  1760.010010  1935.199951  1672.000000  1893.630005  1893.630005   \n",
      "2019-07-01  1922.979980  2035.800049  1849.439941  1866.780029  1866.780029   \n",
      "2019-08-01  1871.719971  1897.920044  1743.510010  1776.290039  1776.290039   \n",
      "2019-09-01  1770.000000  1853.660034  1709.219971  1735.910034  1735.910034   \n",
      "2019-10-01  1746.000000  1798.849976  1685.060059  1776.660034  1776.660034   \n",
      "2019-11-01  1788.010010  1824.689941  1722.709961  1800.800049  1800.800049   \n",
      "2019-12-01  1804.400024  1901.400024  1735.000000  1847.839966  1847.839966   \n",
      "2020-01-01  1875.000000  2055.719971  1815.339966  2008.719971  2008.719971   \n",
      "2020-02-01  2010.599976  2185.949951  1811.130005  1883.750000  1883.750000   \n",
      "2020-03-01  1906.489990  1996.329956  1626.030029  1949.719971  1949.719971   \n",
      "2020-04-01  1932.969971  2475.000000  1889.150024  2474.000000  2474.000000   \n",
      "2020-05-01  2336.800049  2525.449951  2256.379883  2442.370117  2442.370117   \n",
      "2020-06-01  2448.000000  2796.000000  2437.129883  2758.820068  2758.820068   \n",
      "2020-07-01  2757.989990  3344.290039  2754.000000  3164.679932  3164.679932   \n",
      "2020-08-01  3180.510010  3495.000000  3073.000000  3450.959961  3450.959961   \n",
      "2020-09-01  3489.580078  3552.250000  2871.000000  3148.729980  3148.729980   \n",
      "2020-10-01  3208.000000  3496.239990  3019.000000  3036.149902  3036.149902   \n",
      "2020-11-01  3061.739990  3366.800049  2950.120117  3168.040039  3168.040039   \n",
      "2020-12-01  3188.500000  3350.649902  3072.820068  3256.929932  3256.929932   \n",
      "2021-01-01  3270.000000  3363.889893  3086.000000  3206.199951  3206.199951   \n",
      "2021-02-01  3242.360107  3434.000000  3036.699951  3092.929932  3092.929932   \n",
      "2021-03-01  3127.889893  3182.000000  2881.000000  3094.080078  3094.080078   \n",
      "2021-04-01  3117.939941  3554.000000  3115.550049  3467.419922  3467.419922   \n",
      "2021-05-01  3484.729980  3486.649902  3127.370117  3223.070068  3223.070068   \n",
      "2021-06-01  3243.500000  3524.860107  3172.199951  3440.159912  3440.159912   \n",
      "2021-07-01  3434.610107  3773.080078  3306.979980  3327.590088  3327.590088   \n",
      "2021-08-01  3353.100098  3472.580078  3175.760010  3470.790039  3470.790039   \n",
      "2021-09-01  3496.399902  3549.989990  3273.989990  3285.040039  3285.040039   \n",
      "2021-10-01  3289.010010  3479.000000  3176.250000  3372.429932  3372.429932   \n",
      "2021-11-01  3361.800049  3762.149902  3283.550049  3507.070068  3507.070068   \n",
      "2021-12-01  3545.000000  3559.879883  3303.899902  3420.739990  3420.739990   \n",
      "\n",
      "               Volume  \n",
      "Date                   \n",
      "2019-01-01  134001700  \n",
      "2019-02-01   80936900  \n",
      "2019-03-01  100832200  \n",
      "2019-04-01   81239200  \n",
      "2019-05-01   98214400  \n",
      "2019-06-01   74746500  \n",
      "2019-07-01   73148800  \n",
      "2019-08-01   79771200  \n",
      "2019-09-01   61172900  \n",
      "2019-10-01   70360500  \n",
      "2019-11-01   52076200  \n",
      "2019-12-01   68149600  \n",
      "2020-01-01   84698300  \n",
      "2020-02-01   92510100  \n",
      "2020-03-01  163809100  \n",
      "2020-04-01  124609800  \n",
      "2020-05-01   82584400  \n",
      "2020-06-01   87818300  \n",
      "2020-07-01  127502000  \n",
      "2020-08-01   83516600  \n",
      "2020-09-01  115899300  \n",
      "2020-10-01  116226100  \n",
      "2020-11-01   90810500  \n",
      "2020-12-01   77556200  \n",
      "2021-01-01   71528900  \n",
      "2021-02-01   72107000  \n",
      "2021-03-01   78188000  \n",
      "2021-04-01   76839600  \n",
      "2021-05-01   75183900  \n",
      "2021-06-01   67011000  \n",
      "2021-07-01   83720800  \n",
      "2021-08-01   62813700  \n",
      "2021-09-01   62523700  \n",
      "2021-10-01   63649200  \n",
      "2021-11-01   75795100  \n",
      "2021-12-01   50809500  \n"
     ]
    }
   ],
   "source": [
    "#Checking data \n",
    "print(amzn_stock)"
   ]
  },
  {
   "cell_type": "code",
   "execution_count": 77,
   "id": "058cd2d0-2186-46f9-9dae-cf6be26f42fa",
   "metadata": {},
   "outputs": [
    {
     "data": {
      "image/png": "[encoded data removed]",
      "text/plain": [
       "<Figure size 1296x360 with 1 Axes>"
      ]
     },
     "metadata": {},
     "output_type": "display_data"
    }
   ],
   "source": [
    "#Plotting stock close price of Amazon, Netflix and Disney with two vlines one showing date Disney+ platform released and COVID 19 announced as pandemic\n",
    "plt.figure(figsize=(18, 5))\n",
    "sns.lineplot(x=nflx_stock.index,y=nflx_stock[\"Close\"],label=\"Netflix\",marker='o')\n",
    "sns.lineplot(x=amzn_stock.index,y=amzn_stock[\"Close\"],label=\"Amazon\",marker='o')\n",
    "sns.lineplot(x=dis_stock.index,y=dis_stock[\"Close\"],label=\"Disney+\",marker='o')\n",
    "plt.axvline(label=\"COVID\",x='2020-03-01',linestyle='--',color='r')\n",
    "plt.axvline(label=\"Disney+ Started\",x='2019-11-01',linestyle='--',color='b')\n",
    "plt.title('Stock Price Analysis of Streaming Providers')\n",
    "plt.xlabel('Date',fontsize=15)\n",
    "plt.ylabel('Stock Price',fontsize=15)\n",
    "plt.xticks(rotation=90);\n",
    "plt.show()"
   ]
  },
  {
   "cell_type": "code",
   "execution_count": 66,
   "id": "f1bfe4aa-acfd-412a-95df-2900e30df312",
   "metadata": {},
   "outputs": [
    {
     "data": {
      "image/png": "[encoded data removed]",
      "text/plain": [
       "<Figure size 1296x360 with 1 Axes>"
      ]
     },
     "metadata": {},
     "output_type": "display_data"
    }
   ],
   "source": [
    "#Comparing Netflix and Disney+ stock information \n",
    "plt.figure(figsize=(18, 5))\n",
    "sns.lineplot(x=nflx_stock.index,y=nflx_stock[\"Close\"],label=\"Netflix\",marker='o')\n",
    "sns.lineplot(x=dis_stock.index,y=dis_stock[\"Close\"],label=\"Disney+\",marker='o')\n",
    "plt.axvline(x='2020-03-01',label='COVID',linestyle='--',color='b')\n",
    "plt.axvline(x='2019-11-01',label='Disney',linestyle='--',color='g')\n",
    "plt.title('Analysis of Disney+ and Netflix Stock Price')\n",
    "plt.xlabel('Date',fontsize=15)\n",
    "plt.ylabel('Stock Price',fontsize=15)\n",
    "plt.xticks(rotation=90);\n",
    "plt.show()"
   ]
  },
  {
   "cell_type": "code",
   "execution_count": 67,
   "id": "ccdff6e5-d212-4897-a32a-943b2672468f",
   "metadata": {},
   "outputs": [],
   "source": [
    "#Reuseable function to show growth of closing stock price from 2019 - 2021\n",
    "def custom_2 (a,b):\n",
    "    growth = (((b-a)/a)*100)\n",
    "    return growth"
   ]
  },
  {
   "cell_type": "code",
   "execution_count": 68,
   "id": "782188fb-38ae-4b6d-ac8a-dea904ff1443",
   "metadata": {},
   "outputs": [
    {
     "data": {
      "text/plain": [
       "80.92488659793815"
      ]
     },
     "execution_count": 68,
     "metadata": {},
     "output_type": "execute_result"
    }
   ],
   "source": [
    "#Netflix growth\n",
    "custom_2(339.50,614.239990)"
   ]
  },
  {
   "cell_type": "code",
   "execution_count": 69,
   "id": "57997406-8462-4296-89c0-2562c6835707",
   "metadata": {},
   "outputs": [
    {
     "data": {
      "text/plain": [
       "99.02718517774385"
      ]
     },
     "execution_count": 69,
     "metadata": {},
     "output_type": "execute_result"
    }
   ],
   "source": [
    "#Amazon growth\n",
    "custom_2(1718.729980,3420.73990)"
   ]
  },
  {
   "cell_type": "code",
   "execution_count": 70,
   "id": "2d0eaaa0-a43c-4c2d-8c74-402ae0f3aa3b",
   "metadata": {},
   "outputs": [
    {
     "data": {
      "text/plain": [
       "36.1908992622577"
      ]
     },
     "execution_count": 70,
     "metadata": {},
     "output_type": "execute_result"
    }
   ],
   "source": [
    "#Disney growth\n",
    "custom_2(111.51997,151.88005)"
   ]
  },
  {
   "cell_type": "code",
   "execution_count": null,
   "id": "4216c440-f34d-40a5-a7d8-83ecdae2d5c2",
   "metadata": {},
   "outputs": [],
   "source": []
  }
 ],
 "metadata": {
  "kernelspec": {
   "display_name": "Python 3",
   "language": "python",
   "name": "python3"
  },
  "language_info": {
   "codemirror_mode": {
    "name": "ipython",
    "version": 3
   },
   "file_extension": ".py",
   "mimetype": "text/x-python",
   "name": "python",
   "nbconvert_exporter": "python",
   "pygments_lexer": "ipython3",
   "version": "3.8.8"
  }
 },
 "nbformat": 4,
 "nbformat_minor": 5
}
